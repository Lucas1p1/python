{
 "cells": [
  {
   "cell_type": "code",
   "execution_count": 1,
   "id": "f12c3824-a92f-4bdd-9d2a-b61e48017ad0",
   "metadata": {},
   "outputs": [],
   "source": [
    "import numpy as np\n",
    "import pandas as pd\n",
    "from sklearn.linear_model import LinearRegression\n",
    "from sklearn.utils import shuffle\n",
    "import seaborn as sns\n",
    "import matplotlib.pyplot as plt"
   ]
  },
  {
   "cell_type": "code",
   "execution_count": 3,
   "id": "4055ffb2-db21-4698-8a63-ad884cbe6096",
   "metadata": {},
   "outputs": [
    {
     "data": {
      "text/html": [
       "<div>\n",
       "<style scoped>\n",
       "    .dataframe tbody tr th:only-of-type {\n",
       "        vertical-align: middle;\n",
       "    }\n",
       "\n",
       "    .dataframe tbody tr th {\n",
       "        vertical-align: top;\n",
       "    }\n",
       "\n",
       "    .dataframe thead th {\n",
       "        text-align: right;\n",
       "    }\n",
       "</style>\n",
       "<table border=\"1\" class=\"dataframe\">\n",
       "  <thead>\n",
       "    <tr style=\"text-align: right;\">\n",
       "      <th></th>\n",
       "      <th>Breed</th>\n",
       "      <th>Age</th>\n",
       "      <th>Sample</th>\n",
       "      <th>Week</th>\n",
       "      <th>D1WT</th>\n",
       "      <th>D1MILK</th>\n",
       "    </tr>\n",
       "  </thead>\n",
       "  <tbody>\n",
       "    <tr>\n",
       "      <th>0</th>\n",
       "      <td>WAD</td>\n",
       "      <td>2_3</td>\n",
       "      <td>1</td>\n",
       "      <td>1</td>\n",
       "      <td>14.5</td>\n",
       "      <td>34</td>\n",
       "    </tr>\n",
       "    <tr>\n",
       "      <th>1</th>\n",
       "      <td>WAD</td>\n",
       "      <td>2_3</td>\n",
       "      <td>1</td>\n",
       "      <td>2</td>\n",
       "      <td>15.0</td>\n",
       "      <td>114</td>\n",
       "    </tr>\n",
       "    <tr>\n",
       "      <th>2</th>\n",
       "      <td>WAD</td>\n",
       "      <td>2_3</td>\n",
       "      <td>1</td>\n",
       "      <td>3</td>\n",
       "      <td>15.0</td>\n",
       "      <td>90</td>\n",
       "    </tr>\n",
       "    <tr>\n",
       "      <th>3</th>\n",
       "      <td>WAD</td>\n",
       "      <td>2_3</td>\n",
       "      <td>1</td>\n",
       "      <td>4</td>\n",
       "      <td>15.0</td>\n",
       "      <td>65</td>\n",
       "    </tr>\n",
       "    <tr>\n",
       "      <th>4</th>\n",
       "      <td>WAD</td>\n",
       "      <td>2_3</td>\n",
       "      <td>1</td>\n",
       "      <td>5</td>\n",
       "      <td>15.5</td>\n",
       "      <td>62</td>\n",
       "    </tr>\n",
       "    <tr>\n",
       "      <th>...</th>\n",
       "      <td>...</td>\n",
       "      <td>...</td>\n",
       "      <td>...</td>\n",
       "      <td>...</td>\n",
       "      <td>...</td>\n",
       "      <td>...</td>\n",
       "    </tr>\n",
       "    <tr>\n",
       "      <th>147</th>\n",
       "      <td>YAN</td>\n",
       "      <td>3_4</td>\n",
       "      <td>1</td>\n",
       "      <td>7</td>\n",
       "      <td>33.8</td>\n",
       "      <td>280</td>\n",
       "    </tr>\n",
       "    <tr>\n",
       "      <th>148</th>\n",
       "      <td>YAN</td>\n",
       "      <td>3_4</td>\n",
       "      <td>1</td>\n",
       "      <td>8</td>\n",
       "      <td>34.0</td>\n",
       "      <td>285</td>\n",
       "    </tr>\n",
       "    <tr>\n",
       "      <th>149</th>\n",
       "      <td>WAD</td>\n",
       "      <td>3_4</td>\n",
       "      <td>1</td>\n",
       "      <td>1</td>\n",
       "      <td>16.0</td>\n",
       "      <td>80</td>\n",
       "    </tr>\n",
       "    <tr>\n",
       "      <th>150</th>\n",
       "      <td>WAD</td>\n",
       "      <td>2_3</td>\n",
       "      <td>5</td>\n",
       "      <td>2</td>\n",
       "      <td>16.2</td>\n",
       "      <td>85</td>\n",
       "    </tr>\n",
       "    <tr>\n",
       "      <th>151</th>\n",
       "      <td>WAD</td>\n",
       "      <td>2_3</td>\n",
       "      <td>5</td>\n",
       "      <td>3</td>\n",
       "      <td>16.4</td>\n",
       "      <td>90</td>\n",
       "    </tr>\n",
       "  </tbody>\n",
       "</table>\n",
       "<p>152 rows × 6 columns</p>\n",
       "</div>"
      ],
      "text/plain": [
       "    Breed  Age  Sample  Week  D1WT  D1MILK\n",
       "0     WAD  2_3       1     1  14.5      34\n",
       "1     WAD  2_3       1     2  15.0     114\n",
       "2     WAD  2_3       1     3  15.0      90\n",
       "3     WAD  2_3       1     4  15.0      65\n",
       "4     WAD  2_3       1     5  15.5      62\n",
       "..    ...  ...     ...   ...   ...     ...\n",
       "147   YAN  3_4       1     7  33.8     280\n",
       "148   YAN  3_4       1     8  34.0     285\n",
       "149   WAD  3_4       1     1  16.0      80\n",
       "150   WAD  2_3       5     2  16.2      85\n",
       "151   WAD  2_3       5     3  16.4      90\n",
       "\n",
       "[152 rows x 6 columns]"
      ]
     },
     "execution_count": 3,
     "metadata": {},
     "output_type": "execute_result"
    }
   ],
   "source": [
    "mat_data =  pd.read_csv('sheep_milk_yield.csv')\n",
    "mat_data"
   ]
  },
  {
   "cell_type": "code",
   "execution_count": 5,
   "id": "3a233913-f0b7-4124-9f2e-abf7240d3657",
   "metadata": {},
   "outputs": [],
   "source": [
    "# Selecting features (X) and the target variable (y)\n",
    "X = mat_data[['Breed', 'Age', 'D1WT']]\n",
    "y = mat_data['D1MILK']"
   ]
  },
  {
   "cell_type": "code",
   "execution_count": 6,
   "id": "15c85682-e29a-468a-8a41-88651fe2c48f",
   "metadata": {},
   "outputs": [],
   "source": [
    "from sklearn.preprocessing import LabelEncoder\n",
    "le=LabelEncoder()"
   ]
  },
  {
   "cell_type": "code",
   "execution_count": 7,
   "id": "c86d59ee-2b27-467b-96cb-98d05caf6e41",
   "metadata": {},
   "outputs": [
    {
     "data": {
      "text/html": [
       "<div>\n",
       "<style scoped>\n",
       "    .dataframe tbody tr th:only-of-type {\n",
       "        vertical-align: middle;\n",
       "    }\n",
       "\n",
       "    .dataframe tbody tr th {\n",
       "        vertical-align: top;\n",
       "    }\n",
       "\n",
       "    .dataframe thead th {\n",
       "        text-align: right;\n",
       "    }\n",
       "</style>\n",
       "<table border=\"1\" class=\"dataframe\">\n",
       "  <thead>\n",
       "    <tr style=\"text-align: right;\">\n",
       "      <th></th>\n",
       "      <th>Breed</th>\n",
       "      <th>Age</th>\n",
       "      <th>Sample</th>\n",
       "      <th>Week</th>\n",
       "      <th>D1WT</th>\n",
       "      <th>D1MILK</th>\n",
       "    </tr>\n",
       "  </thead>\n",
       "  <tbody>\n",
       "    <tr>\n",
       "      <th>0</th>\n",
       "      <td>WAD</td>\n",
       "      <td>2_3</td>\n",
       "      <td>1</td>\n",
       "      <td>1</td>\n",
       "      <td>14.5</td>\n",
       "      <td>34</td>\n",
       "    </tr>\n",
       "    <tr>\n",
       "      <th>1</th>\n",
       "      <td>WAD</td>\n",
       "      <td>2_3</td>\n",
       "      <td>1</td>\n",
       "      <td>2</td>\n",
       "      <td>15.0</td>\n",
       "      <td>114</td>\n",
       "    </tr>\n",
       "    <tr>\n",
       "      <th>2</th>\n",
       "      <td>WAD</td>\n",
       "      <td>2_3</td>\n",
       "      <td>1</td>\n",
       "      <td>3</td>\n",
       "      <td>15.0</td>\n",
       "      <td>90</td>\n",
       "    </tr>\n",
       "    <tr>\n",
       "      <th>3</th>\n",
       "      <td>WAD</td>\n",
       "      <td>2_3</td>\n",
       "      <td>1</td>\n",
       "      <td>4</td>\n",
       "      <td>15.0</td>\n",
       "      <td>65</td>\n",
       "    </tr>\n",
       "    <tr>\n",
       "      <th>4</th>\n",
       "      <td>WAD</td>\n",
       "      <td>2_3</td>\n",
       "      <td>1</td>\n",
       "      <td>5</td>\n",
       "      <td>15.5</td>\n",
       "      <td>62</td>\n",
       "    </tr>\n",
       "  </tbody>\n",
       "</table>\n",
       "</div>"
      ],
      "text/plain": [
       "  Breed  Age  Sample  Week  D1WT  D1MILK\n",
       "0   WAD  2_3       1     1  14.5      34\n",
       "1   WAD  2_3       1     2  15.0     114\n",
       "2   WAD  2_3       1     3  15.0      90\n",
       "3   WAD  2_3       1     4  15.0      65\n",
       "4   WAD  2_3       1     5  15.5      62"
      ]
     },
     "execution_count": 7,
     "metadata": {},
     "output_type": "execute_result"
    }
   ],
   "source": [
    "mat_data.head()"
   ]
  },
  {
   "cell_type": "code",
   "execution_count": 9,
   "id": "e40b8ced-0361-4736-83ed-c4f0dd4e9971",
   "metadata": {},
   "outputs": [],
   "source": [
    "import pandas as pd\n",
    "from sklearn.preprocessing import LabelEncoder\n",
    "\n",
    "# Read the CSV file into a pandas DataFrame\n",
    "df = pd.read_csv('sheep_milk_yield.csv')\n",
    "\n",
    "# Assuming 'breed' is the column you want to encode\n",
    "breed_column = df['Breed']\n",
    "\n",
    "# Instantiate LabelEncoder\n",
    "label_encoder = LabelEncoder()\n",
    "\n",
    "# Fit and transform the 'breed' column\n",
    "encoded_breed = label_encoder.fit_transform(breed_column)\n",
    "\n",
    "# Replace the original 'breed' column with the encoded values\n",
    "df['Breed'] = encoded_breed\n",
    "\n",
    "# Now, 'breed' column contains numeric values\n",
    "# You can save the modified DataFrame to a new CSV file if needed\n",
    "df.to_csv('sheep_milk_yield_encoded.csv', index=False)\n"
   ]
  },
  {
   "cell_type": "code",
   "execution_count": 10,
   "id": "795df70b-4f2d-4d9c-b25b-7e660da29f69",
   "metadata": {},
   "outputs": [],
   "source": [
    "import pandas as pd\n",
    "from sklearn.model_selection import train_test_split\n",
    "from sklearn.linear_model import LinearRegression\n",
    "from sklearn.metrics import mean_squared_error, r2_score\n",
    "from sklearn.preprocessing import StandardScaler\n"
   ]
  },
  {
   "cell_type": "code",
   "execution_count": 11,
   "id": "406cc7a8-b73e-4e64-aa13-c1aca4ae4aaa",
   "metadata": {},
   "outputs": [],
   "source": [
    "# Read the encoded CSV file into a pandas DataFrame\n",
    "df = pd.read_csv('sheep_milk_yield_encoded.csv')"
   ]
  },
  {
   "cell_type": "code",
   "execution_count": 13,
   "id": "1d533007-9fde-4255-9ef8-615ce449c030",
   "metadata": {},
   "outputs": [],
   "source": [
    "# Select features (X) and target variable (y)\n",
    "features = ['Age', 'D1WT', 'Breed']\n",
    "X = df[features]\n",
    "y = df['D1MILK']\n"
   ]
  },
  {
   "cell_type": "code",
   "execution_count": 14,
   "id": "7c584b27-b1f5-4409-a01e-8c4fb045651b",
   "metadata": {},
   "outputs": [],
   "source": [
    "# Split the data into training and testing sets\n",
    "X_train, X_test, y_train, y_test = train_test_split(X, y, test_size=0.2, random_state=42)\n",
    "\n"
   ]
  },
  {
   "cell_type": "code",
   "execution_count": 15,
   "id": "f75a80b7-52d8-4fe0-a524-c1f43dd0fbad",
   "metadata": {},
   "outputs": [],
   "source": [
    "# Standardize the features (optional but recommended for linear regression)\n",
    "scaler = StandardScaler()\n",
    "X_train_scaled = scaler.fit_transform(X_train)\n",
    "X_test_scaled = scaler.transform(X_test)\n",
    "\n"
   ]
  },
  {
   "cell_type": "code",
   "execution_count": 16,
   "id": "4a3252d0-dff4-43a0-b22c-27a33f4e2c8e",
   "metadata": {},
   "outputs": [],
   "source": [
    "# Instantiate linear regression model\n",
    "model = LinearRegression()\n"
   ]
  },
  {
   "cell_type": "code",
   "execution_count": 17,
   "id": "273e6bf8-a9aa-4665-b034-d8f5e6a1f38a",
   "metadata": {},
   "outputs": [
    {
     "data": {
      "text/html": [
       "<style>#sk-container-id-1 {color: black;}#sk-container-id-1 pre{padding: 0;}#sk-container-id-1 div.sk-toggleable {background-color: white;}#sk-container-id-1 label.sk-toggleable__label {cursor: pointer;display: block;width: 100%;margin-bottom: 0;padding: 0.3em;box-sizing: border-box;text-align: center;}#sk-container-id-1 label.sk-toggleable__label-arrow:before {content: \"▸\";float: left;margin-right: 0.25em;color: #696969;}#sk-container-id-1 label.sk-toggleable__label-arrow:hover:before {color: black;}#sk-container-id-1 div.sk-estimator:hover label.sk-toggleable__label-arrow:before {color: black;}#sk-container-id-1 div.sk-toggleable__content {max-height: 0;max-width: 0;overflow: hidden;text-align: left;background-color: #f0f8ff;}#sk-container-id-1 div.sk-toggleable__content pre {margin: 0.2em;color: black;border-radius: 0.25em;background-color: #f0f8ff;}#sk-container-id-1 input.sk-toggleable__control:checked~div.sk-toggleable__content {max-height: 200px;max-width: 100%;overflow: auto;}#sk-container-id-1 input.sk-toggleable__control:checked~label.sk-toggleable__label-arrow:before {content: \"▾\";}#sk-container-id-1 div.sk-estimator input.sk-toggleable__control:checked~label.sk-toggleable__label {background-color: #d4ebff;}#sk-container-id-1 div.sk-label input.sk-toggleable__control:checked~label.sk-toggleable__label {background-color: #d4ebff;}#sk-container-id-1 input.sk-hidden--visually {border: 0;clip: rect(1px 1px 1px 1px);clip: rect(1px, 1px, 1px, 1px);height: 1px;margin: -1px;overflow: hidden;padding: 0;position: absolute;width: 1px;}#sk-container-id-1 div.sk-estimator {font-family: monospace;background-color: #f0f8ff;border: 1px dotted black;border-radius: 0.25em;box-sizing: border-box;margin-bottom: 0.5em;}#sk-container-id-1 div.sk-estimator:hover {background-color: #d4ebff;}#sk-container-id-1 div.sk-parallel-item::after {content: \"\";width: 100%;border-bottom: 1px solid gray;flex-grow: 1;}#sk-container-id-1 div.sk-label:hover label.sk-toggleable__label {background-color: #d4ebff;}#sk-container-id-1 div.sk-serial::before {content: \"\";position: absolute;border-left: 1px solid gray;box-sizing: border-box;top: 0;bottom: 0;left: 50%;z-index: 0;}#sk-container-id-1 div.sk-serial {display: flex;flex-direction: column;align-items: center;background-color: white;padding-right: 0.2em;padding-left: 0.2em;position: relative;}#sk-container-id-1 div.sk-item {position: relative;z-index: 1;}#sk-container-id-1 div.sk-parallel {display: flex;align-items: stretch;justify-content: center;background-color: white;position: relative;}#sk-container-id-1 div.sk-item::before, #sk-container-id-1 div.sk-parallel-item::before {content: \"\";position: absolute;border-left: 1px solid gray;box-sizing: border-box;top: 0;bottom: 0;left: 50%;z-index: -1;}#sk-container-id-1 div.sk-parallel-item {display: flex;flex-direction: column;z-index: 1;position: relative;background-color: white;}#sk-container-id-1 div.sk-parallel-item:first-child::after {align-self: flex-end;width: 50%;}#sk-container-id-1 div.sk-parallel-item:last-child::after {align-self: flex-start;width: 50%;}#sk-container-id-1 div.sk-parallel-item:only-child::after {width: 0;}#sk-container-id-1 div.sk-dashed-wrapped {border: 1px dashed gray;margin: 0 0.4em 0.5em 0.4em;box-sizing: border-box;padding-bottom: 0.4em;background-color: white;}#sk-container-id-1 div.sk-label label {font-family: monospace;font-weight: bold;display: inline-block;line-height: 1.2em;}#sk-container-id-1 div.sk-label-container {text-align: center;}#sk-container-id-1 div.sk-container {/* jupyter's `normalize.less` sets `[hidden] { display: none; }` but bootstrap.min.css set `[hidden] { display: none !important; }` so we also need the `!important` here to be able to override the default hidden behavior on the sphinx rendered scikit-learn.org. See: https://github.com/scikit-learn/scikit-learn/issues/21755 */display: inline-block !important;position: relative;}#sk-container-id-1 div.sk-text-repr-fallback {display: none;}</style><div id=\"sk-container-id-1\" class=\"sk-top-container\"><div class=\"sk-text-repr-fallback\"><pre>LinearRegression()</pre><b>In a Jupyter environment, please rerun this cell to show the HTML representation or trust the notebook. <br />On GitHub, the HTML representation is unable to render, please try loading this page with nbviewer.org.</b></div><div class=\"sk-container\" hidden><div class=\"sk-item\"><div class=\"sk-estimator sk-toggleable\"><input class=\"sk-toggleable__control sk-hidden--visually\" id=\"sk-estimator-id-1\" type=\"checkbox\" checked><label for=\"sk-estimator-id-1\" class=\"sk-toggleable__label sk-toggleable__label-arrow\">LinearRegression</label><div class=\"sk-toggleable__content\"><pre>LinearRegression()</pre></div></div></div></div></div>"
      ],
      "text/plain": [
       "LinearRegression()"
      ]
     },
     "execution_count": 17,
     "metadata": {},
     "output_type": "execute_result"
    }
   ],
   "source": [
    "\n",
    "# Fit the model to the training data\n",
    "model.fit(X_train_scaled, y_train)"
   ]
  },
  {
   "cell_type": "code",
   "execution_count": 18,
   "id": "53fca683-6fe4-4bc3-a656-98af8bedb239",
   "metadata": {},
   "outputs": [],
   "source": [
    "# Make predictions on the test set\n",
    "y_pred = model.predict(X_test_scaled)"
   ]
  },
  {
   "cell_type": "code",
   "execution_count": 19,
   "id": "289270f3-9981-4f6e-9bc6-1e983a85bead",
   "metadata": {},
   "outputs": [],
   "source": [
    "# Evaluate the model\n",
    "mse = mean_squared_error(y_test, y_pred)\n",
    "r2 = r2_score(y_test, y_pred)"
   ]
  },
  {
   "cell_type": "code",
   "execution_count": 20,
   "id": "9167eb59-bbb2-4c4f-badf-756800322f70",
   "metadata": {},
   "outputs": [
    {
     "name": "stdout",
     "output_type": "stream",
     "text": [
      "Mean Squared Error: 2363.1659097586335\n",
      "R-squared: 0.38928826227874924\n"
     ]
    }
   ],
   "source": [
    "print(f'Mean Squared Error: {mse}')\n",
    "print(f'R-squared: {r2}')"
   ]
  },
  {
   "cell_type": "code",
   "execution_count": 22,
   "id": "a886f8fe-3504-40dc-9931-1be768c64b21",
   "metadata": {},
   "outputs": [
    {
     "name": "stdout",
     "output_type": "stream",
     "text": [
      "Predicted Milk Yield: 221.34354690570643\n"
     ]
    }
   ],
   "source": [
    "new_data = pd.DataFrame({'Age': [3], 'D1WT': [50], 'Breed': [2]})\n",
    "new_data_scaled = scaler.transform(new_data)\n",
    "predicted_milk_yield = model.predict(new_data_scaled)\n",
    "\n",
    "print(f'Predicted Milk Yield: {predicted_milk_yield[0]}')"
   ]
  },
  {
   "cell_type": "code",
   "execution_count": 25,
   "id": "c28f1598-2e50-4c09-a86f-7a032289ccfe",
   "metadata": {},
   "outputs": [
    {
     "data": {
      "text/plain": [
       "<Axes: xlabel='Breed', ylabel='count'>"
      ]
     },
     "execution_count": 25,
     "metadata": {},
     "output_type": "execute_result"
    },
    {
     "data": {
      "image/png": "[encoded data removed]",
      "text/plain": [
       "<Figure size 800x600 with 1 Axes>"
      ]
     },
     "metadata": {},
     "output_type": "display_data"
    }
   ],
   "source": [
    "sns.set(rc={'figure.figsize':(8,6)})\n",
    "sns.countplot(x=\"Breed\", hue =\"Age\", data=mat_data)"
   ]
  },
  {
   "cell_type": "code",
   "execution_count": 26,
   "id": "2ab17ec7-3482-43e7-a706-f5590fb2e252",
   "metadata": {},
   "outputs": [
    {
     "data": {
      "text/html": [
       "<div>\n",
       "<style scoped>\n",
       "    .dataframe tbody tr th:only-of-type {\n",
       "        vertical-align: middle;\n",
       "    }\n",
       "\n",
       "    .dataframe tbody tr th {\n",
       "        vertical-align: top;\n",
       "    }\n",
       "\n",
       "    .dataframe thead th {\n",
       "        text-align: right;\n",
       "    }\n",
       "</style>\n",
       "<table border=\"1\" class=\"dataframe\">\n",
       "  <thead>\n",
       "    <tr style=\"text-align: right;\">\n",
       "      <th></th>\n",
       "      <th>Sample</th>\n",
       "      <th>Week</th>\n",
       "      <th>D1WT</th>\n",
       "      <th>D1MILK</th>\n",
       "    </tr>\n",
       "  </thead>\n",
       "  <tbody>\n",
       "    <tr>\n",
       "      <th>count</th>\n",
       "      <td>152.000000</td>\n",
       "      <td>152.000000</td>\n",
       "      <td>152.00000</td>\n",
       "      <td>152.000000</td>\n",
       "    </tr>\n",
       "    <tr>\n",
       "      <th>mean</th>\n",
       "      <td>3.111842</td>\n",
       "      <td>4.427632</td>\n",
       "      <td>24.05000</td>\n",
       "      <td>134.000000</td>\n",
       "    </tr>\n",
       "    <tr>\n",
       "      <th>std</th>\n",
       "      <td>1.751251</td>\n",
       "      <td>2.291944</td>\n",
       "      <td>6.89139</td>\n",
       "      <td>72.390497</td>\n",
       "    </tr>\n",
       "    <tr>\n",
       "      <th>min</th>\n",
       "      <td>1.000000</td>\n",
       "      <td>1.000000</td>\n",
       "      <td>9.00000</td>\n",
       "      <td>25.000000</td>\n",
       "    </tr>\n",
       "    <tr>\n",
       "      <th>25%</th>\n",
       "      <td>1.000000</td>\n",
       "      <td>2.000000</td>\n",
       "      <td>19.87500</td>\n",
       "      <td>72.000000</td>\n",
       "    </tr>\n",
       "    <tr>\n",
       "      <th>50%</th>\n",
       "      <td>3.000000</td>\n",
       "      <td>4.000000</td>\n",
       "      <td>22.25000</td>\n",
       "      <td>122.000000</td>\n",
       "    </tr>\n",
       "    <tr>\n",
       "      <th>75%</th>\n",
       "      <td>5.000000</td>\n",
       "      <td>6.000000</td>\n",
       "      <td>29.57500</td>\n",
       "      <td>185.500000</td>\n",
       "    </tr>\n",
       "    <tr>\n",
       "      <th>max</th>\n",
       "      <td>6.000000</td>\n",
       "      <td>8.000000</td>\n",
       "      <td>37.00000</td>\n",
       "      <td>300.000000</td>\n",
       "    </tr>\n",
       "  </tbody>\n",
       "</table>\n",
       "</div>"
      ],
      "text/plain": [
       "           Sample        Week       D1WT      D1MILK\n",
       "count  152.000000  152.000000  152.00000  152.000000\n",
       "mean     3.111842    4.427632   24.05000  134.000000\n",
       "std      1.751251    2.291944    6.89139   72.390497\n",
       "min      1.000000    1.000000    9.00000   25.000000\n",
       "25%      1.000000    2.000000   19.87500   72.000000\n",
       "50%      3.000000    4.000000   22.25000  122.000000\n",
       "75%      5.000000    6.000000   29.57500  185.500000\n",
       "max      6.000000    8.000000   37.00000  300.000000"
      ]
     },
     "execution_count": 26,
     "metadata": {},
     "output_type": "execute_result"
    }
   ],
   "source": [
    "mat_data.describe()"
   ]
  },
  {
   "cell_type": "code",
   "execution_count": 27,
   "id": "6292395e-3b19-4b41-90e1-dcff37f835a3",
   "metadata": {},
   "outputs": [
    {
     "data": {
      "text/plain": [
       "<Axes: xlabel='count', ylabel='Age'>"
      ]
     },
     "execution_count": 27,
     "metadata": {},
     "output_type": "execute_result"
    },
    {
     "data": {
      "image/png": "[encoded data removed]",
      "text/plain": [
       "<Figure size 800x600 with 1 Axes>"
      ]
     },
     "metadata": {},
     "output_type": "display_data"
    }
   ],
   "source": [
    "sns.countplot(mat_data.Age)"
   ]
  },
  {
   "cell_type": "code",
   "execution_count": 28,
   "id": "685c0370-3985-4263-8728-5dcda9d5e688",
   "metadata": {},
   "outputs": [
    {
     "data": {
      "text/plain": [
       "<Axes: xlabel='Breed', ylabel='count'>"
      ]
     },
     "execution_count": 28,
     "metadata": {},
     "output_type": "execute_result"
    },
    {
     "data": {
      "image/png": "[encoded data removed]",
      "text/plain": [
       "<Figure size 800x600 with 1 Axes>"
      ]
     },
     "metadata": {},
     "output_type": "display_data"
    }
   ],
   "source": [
    "sns.countplot(x=\"Breed\", hue =\"Sample\", data=mat_data)"
   ]
  },
  {
   "cell_type": "code",
   "execution_count": 31,
   "id": "6a5b4512-b4af-4512-97a4-22a544a30962",
   "metadata": {},
   "outputs": [
    {
     "data": {
      "image/png": "[encoded data removed]",
      "text/plain": [
       "<Figure size 800x600 with 1 Axes>"
      ]
     },
     "metadata": {},
     "output_type": "display_data"
    }
   ],
   "source": [
    "import matplotlib.pyplot as plt\n",
    "\n",
    "# Assuming you have the actual milk yield values in 'y_test' and predicted values in 'y_pred'\n",
    "plt.scatter(y_test, y_pred)\n",
    "plt.xlabel('Actual Milk Yield')\n",
    "plt.ylabel('Predicted Milk Yield')\n",
    "plt.title('Actual vs Predicted Milk Yield')\n",
    "plt.show()\n"
   ]
  },
  {
   "cell_type": "code",
   "execution_count": 32,
   "id": "e2e24b71-c2e5-44de-8a4b-dc6b23fc10fd",
   "metadata": {},
   "outputs": [
    {
     "name": "stdout",
     "output_type": "stream",
     "text": [
      "Collecting shap\n",
      "  Downloading shap-0.43.0-cp39-cp39-win_amd64.whl (447 kB)\n",
      "Requirement already satisfied: packaging>20.9 in c:\\users\\lucifer\\appdata\\local\\programs\\python\\python39\\lib\\site-packages (from shap) (23.2)\n",
      "Requirement already satisfied: pandas in c:\\users\\lucifer\\appdata\\local\\programs\\python\\python39\\lib\\site-packages (from shap) (2.1.2)\n",
      "Collecting slicer==0.0.7\n",
      "  Downloading slicer-0.0.7-py3-none-any.whl (14 kB)\n",
      "Collecting cloudpickle\n",
      "  Downloading cloudpickle-3.0.0-py3-none-any.whl (20 kB)\n",
      "Requirement already satisfied: scikit-learn in c:\\users\\lucifer\\appdata\\local\\programs\\python\\python39\\lib\\site-packages (from shap) (1.3.2)\n",
      "Requirement already satisfied: scipy in c:\\users\\lucifer\\appdata\\local\\programs\\python\\python39\\lib\\site-packages (from shap) (1.11.3)\n",
      "Requirement already satisfied: numpy in c:\\users\\lucifer\\appdata\\local\\programs\\python\\python39\\lib\\site-packages (from shap) (1.26.1)\n",
      "Requirement already satisfied: tqdm>=4.27.0 in c:\\users\\lucifer\\appdata\\local\\programs\\python\\python39\\lib\\site-packages (from shap) (4.62.2)\n",
      "Requirement already satisfied: numba in c:\\users\\lucifer\\appdata\\local\\programs\\python\\python39\\lib\\site-packages (from shap) (0.58.1)\n",
      "Requirement already satisfied: tzdata>=2022.1 in c:\\users\\lucifer\\appdata\\local\\programs\\python\\python39\\lib\\site-packages (from pandas->shap) (2023.3)\n",
      "Requirement already satisfied: python-dateutil>=2.8.2 in c:\\users\\lucifer\\appdata\\local\\programs\\python\\python39\\lib\\site-packages (from pandas->shap) (2.8.2)\n",
      "Requirement already satisfied: pytz>=2020.1 in c:\\users\\lucifer\\appdata\\local\\programs\\python\\python39\\lib\\site-packages (from pandas->shap) (2023.3.post1)\n",
      "Requirement already satisfied: joblib>=1.1.1 in c:\\users\\lucifer\\appdata\\local\\programs\\python\\python39\\lib\\site-packages (from scikit-learn->shap) (1.3.2)\n",
      "Requirement already satisfied: threadpoolctl>=2.0.0 in c:\\users\\lucifer\\appdata\\local\\programs\\python\\python39\\lib\\site-packages (from scikit-learn->shap) (3.2.0)\n",
      "Requirement already satisfied: colorama; platform_system == \"Windows\" in c:\\users\\lucifer\\appdata\\local\\programs\\python\\python39\\lib\\site-packages (from tqdm>=4.27.0->shap) (0.4.6)\n",
      "Requirement already satisfied: llvmlite<0.42,>=0.41.0dev0 in c:\\users\\lucifer\\appdata\\local\\programs\\python\\python39\\lib\\site-packages (from numba->shap) (0.41.1)\n",
      "Requirement already satisfied: six>=1.5 in c:\\users\\lucifer\\appdata\\local\\programs\\python\\python39\\lib\\site-packages (from python-dateutil>=2.8.2->pandas->shap) (1.16.0)\n",
      "Installing collected packages: slicer, cloudpickle, shap\n",
      "Successfully installed cloudpickle-3.0.0 shap-0.43.0 slicer-0.0.7\n"
     ]
    },
    {
     "name": "stderr",
     "output_type": "stream",
     "text": [
      "WARNING: You are using pip version 20.2.3; however, version 23.3.1 is available.\n",
      "You should consider upgrading via the 'c:\\users\\lucifer\\appdata\\local\\programs\\python\\python39\\python.exe -m pip install --upgrade pip' command.\n"
     ]
    }
   ],
   "source": [
    "!pip install shap\n"
   ]
  },
  {
   "cell_type": "code",
   "execution_count": 37,
   "id": "b7a79c7d-7b62-4b94-9269-40ce40db93de",
   "metadata": {},
   "outputs": [
    {
     "data": {
      "image/png": "[encoded data removed]",
      "text/plain": [
       "<Figure size 800x270 with 2 Axes>"
      ]
     },
     "metadata": {},
     "output_type": "display_data"
    },
    {
     "ename": "AttributeError",
     "evalue": "'numpy.ndarray' object has no attribute 'iloc'",
     "output_type": "error",
     "traceback": [
      "\u001b[1;31m------------------------------------------------\u001b[0m",
      "\u001b[1;31mAttributeError\u001b[0m Traceback (most recent call last)",
      "Cell \u001b[1;32mIn[37], line 15\u001b[0m\n\u001b[0;32m     12\u001b[0m shap\u001b[38;5;241m.\u001b[39msummary_plot(shap_values, X_test_scaled[:\u001b[38;5;241m100\u001b[39m], feature_names\u001b[38;5;241m=\u001b[39m[\u001b[38;5;124m'\u001b[39m\u001b[38;5;124mAge\u001b[39m\u001b[38;5;124m'\u001b[39m, \u001b[38;5;124m'\u001b[39m\u001b[38;5;124mD1WT\u001b[39m\u001b[38;5;124m'\u001b[39m, \u001b[38;5;124m'\u001b[39m\u001b[38;5;124mBreed\u001b[39m\u001b[38;5;124m'\u001b[39m])\n\u001b[0;32m     14\u001b[0m \u001b[38;5;66;03m# Force plot for a specific instance (e.g., the first sample)\u001b[39;00m\n\u001b[1;32m---> 15\u001b[0m shap\u001b[38;5;241m.\u001b[39mforce_plot(explainer\u001b[38;5;241m.\u001b[39mexpected_value, shap_values[\u001b[38;5;241m0\u001b[39m], \u001b[43mX_test_scaled\u001b[49m\u001b[38;5;241;43m.\u001b[39;49m\u001b[43miloc\u001b[49m[\u001b[38;5;241m0\u001b[39m], feature_names\u001b[38;5;241m=\u001b[39m[\u001b[38;5;124m'\u001b[39m\u001b[38;5;124mAge\u001b[39m\u001b[38;5;124m'\u001b[39m, \u001b[38;5;124m'\u001b[39m\u001b[38;5;124mD1WT\u001b[39m\u001b[38;5;124m'\u001b[39m, \u001b[38;5;124m'\u001b[39m\u001b[38;5;124mBreed\u001b[39m\u001b[38;5;124m'\u001b[39m])\n\u001b[0;32m     17\u001b[0m plt\u001b[38;5;241m.\u001b[39mshow()\n",
      "\u001b[1;31mAttributeError\u001b[0m: 'numpy.ndarray' object has no attribute 'iloc'"
     ]
    }
   ],
   "source": [
    "import shap\n",
    "import matplotlib.pyplot as plt\n",
    "\n",
    "# Assuming 'model' is your trained linear regression model\n",
    "# 'X_test_scaled' is the scaled feature matrix corresponding to your test set\n",
    "explainer = shap.Explainer(model, X_train_scaled)\n",
    "\n",
    "# Calculate SHAP values for a subset of the test set (e.g., the first 100 samples)\n",
    "shap_values = explainer.shap_values(X_test_scaled[:100])\n",
    "\n",
    "# Summary plot\n",
    "shap.summary_plot(shap_values, X_test_scaled[:100], feature_names=['Age', 'D1WT', 'Breed'])\n",
    "\n",
    "# Force plot for a specific instance (e.g., the first sample)\n",
    "shap.force_plot(explainer.expected_value, shap_values[0], X_test_scaled.iloc[0], feature_names=['Age', 'D1WT', 'Breed'])\n",
    "\n",
    "plt.show()\n"
   ]
  },
  {
   "cell_type": "code",
   "execution_count": null,
   "id": "74f2b3df-065d-47b4-bef0-10840e1f8e83",
   "metadata": {},
   "outputs": [],
   "source": []
  }
 ],
 "metadata": {
  "kernelspec": {
   "display_name": "Python 3 (ipykernel)",
   "language": "python",
   "name": "python3"
  },
  "language_info": {
   "codemirror_mode": {
    "name": "ipython",
    "version": 3
   },
   "file_extension": ".py",
   "mimetype": "text/x-python",
   "name": "python",
   "nbconvert_exporter": "python",
   "pygments_lexer": "ipython3",
   "version": "3.9.4"
  }
 },
 "nbformat": 4,
 "nbformat_minor": 5
}
